{
 "cells": [
  {
   "cell_type": "markdown",
   "id": "020dafd4",
   "metadata": {},
   "source": [
    "# Basic Network Traffic Statistics"
   ]
  },
  {
   "cell_type": "markdown",
   "id": "ba8dc8bb",
   "metadata": {},
   "source": [
    "### Load data"
   ]
  },
  {
   "cell_type": "code",
   "execution_count": 9,
   "id": "ba6479d9",
   "metadata": {},
   "outputs": [],
   "source": [
    "from utils import read_csv_files_in_directory\n",
    "\n",
    "df = read_csv_files_in_directory(\"data\", \"cache\", \"network_analysis_data.pkl\")"
   ]
  },
  {
   "cell_type": "markdown",
   "id": "1887b079",
   "metadata": {},
   "source": [
    "- **Compute the total number of network flows recorded**  \n",
    "\tUsed `len(df)` to count the number of rows, as each row represents a network flow."
   ]
  },
  {
   "cell_type": "code",
   "execution_count": 10,
   "id": "6ff90161",
   "metadata": {},
   "outputs": [
    {
     "name": "stdout",
     "output_type": "stream",
     "text": [
      "Total number of network flows: 2071657\n"
     ]
    }
   ],
   "source": [
    "print(\"Total number of network flows:\", len(df))"
   ]
  },
  {
   "cell_type": "markdown",
   "id": "464fa93d",
   "metadata": {},
   "source": [
    "- **Identify the top 5 most used protocols**  \n",
    "\tApplied `df['protocolName'].value_counts().head(5)` to get the most frequent protocols."
   ]
  },
  {
   "cell_type": "code",
   "execution_count": 11,
   "id": "baff9525",
   "metadata": {},
   "outputs": [
    {
     "name": "stdout",
     "output_type": "stream",
     "text": [
      "Top 5 most used protocols:\n",
      "tcp_ip: 1644056\n",
      "udp_ip: 419246\n",
      "icmp_ip: 8211\n",
      "igmp: 77\n",
      "ip: 66\n"
     ]
    }
   ],
   "source": [
    "from utils import display_top_items\n",
    "\n",
    "top_protocols = df['protocolName'].value_counts().head(5)\n",
    "display_top_items(\"Top 5 most used protocols\", top_protocols)"
   ]
  },
  {
   "cell_type": "markdown",
   "id": "709708b7",
   "metadata": {},
   "source": [
    "- **Identify the top 10 most active source and destination IPs**  \n",
    "\tUsed `.value_counts().head(10)` on `source` and `destination` columns separately."
   ]
  },
  {
   "cell_type": "code",
   "execution_count": 12,
   "id": "8713fc54",
   "metadata": {},
   "outputs": [
    {
     "name": "stdout",
     "output_type": "stream",
     "text": [
      "Top 10 most active Source IPs:\n",
      "192.168.5.122: 268267\n",
      "192.168.2.107: 208379\n",
      "192.168.4.118: 135374\n",
      "192.168.1.101: 116292\n",
      "192.168.4.121: 105454\n",
      "192.168.1.105: 101359\n",
      "192.168.2.109: 99183\n",
      "192.168.3.116: 97241\n",
      "192.168.2.110: 90658\n",
      "192.168.3.115: 88915\n",
      "\n",
      "Top 10 most active Destination IPs:\n",
      "198.164.30.2: 232409\n",
      "192.168.5.122: 199437\n",
      "203.73.24.75: 193200\n",
      "125.6.164.51: 106826\n",
      "67.220.214.50: 49298\n",
      "202.210.143.140: 36189\n",
      "82.98.86.183: 25214\n",
      "95.211.98.12: 25095\n",
      "209.112.44.10: 21824\n",
      "62.140.213.243: 20509\n"
     ]
    }
   ],
   "source": [
    "top_sources = df['source'].value_counts().head(10)\n",
    "display_top_items(\"Top 10 most active Source IPs\", top_sources)\n",
    "\n",
    "top_destinations = df['destination'].value_counts().head(10)\n",
    "display_top_items(\"\\nTop 10 most active Destination IPs\", top_destinations)"
   ]
  },
  {
   "cell_type": "markdown",
   "id": "10215632",
   "metadata": {},
   "source": [
    "- **Compute the average packet size**  \n",
    "\tCalculated `total_bytes` by summing `totalSourceBytes` and `totalDestinationBytes`.  \n",
    "\tCalculated `total_packets` by summing `totalSourcePackets` and `totalDestinationPackets`.  \n",
    "\tComputed average packet size as `total_bytes / total_packets`."
   ]
  },
  {
   "cell_type": "code",
   "execution_count": 13,
   "id": "68f4d0db",
   "metadata": {},
   "outputs": [
    {
     "name": "stdout",
     "output_type": "stream",
     "text": [
      "\n",
      "Average packet size: 736.92 bytes\n"
     ]
    }
   ],
   "source": [
    "total_bytes = df['totalSourceBytes'].sum() + df['totalDestinationBytes'].sum()\n",
    "total_packets = df['totalSourcePackets'].sum(\n",
    ") + df['totalDestinationPackets'].sum()\n",
    "if total_packets > 0:\n",
    "    avg_packet_size = total_bytes / total_packets\n",
    "    print(f\"\\nAverage packet size: {avg_packet_size:.2f} bytes\")\n",
    "else:\n",
    "    print(\"\\nNo packets found to compute average.\")"
   ]
  },
  {
   "cell_type": "markdown",
   "id": "d6864638",
   "metadata": {},
   "source": [
    "- **Find the most common source-destination pair**  \n",
    "\tGrouped by `['source', 'destination']`, applied `.size()`, and sorted to get the top pair."
   ]
  },
  {
   "cell_type": "code",
   "execution_count": 14,
   "id": "c37f2bb0",
   "metadata": {},
   "outputs": [
    {
     "name": "stdout",
     "output_type": "stream",
     "text": [
      "Most common source-destination pair:\n",
      "192.168.5.122 → 198.164.30.2: 232409\n"
     ]
    }
   ],
   "source": [
    "df['src_dst_pair'] = df['source'] + \" → \" + df['destination']\n",
    "most_common_sd_pair = df['src_dst_pair'].value_counts().head(1)\n",
    "display_top_items(\"Most common source-destination pair\", most_common_sd_pair)"
   ]
  },
  {
   "cell_type": "markdown",
   "id": "7b3d0c56",
   "metadata": {},
   "source": [
    "- **Identify which IPs are consistently communicating over multiple time windows**  \n",
    "\tConverted `startDateTime` to hourly windows using `.dt.floor('h')`.  \n",
    "\tFor each window, collected unique IPs from both `source` and `destination`.  \n",
    "\tCounted how many windows each IP appeared in.  \n",
    "\tSelected IPs that appeared in at least 80% of all windows."
   ]
  },
  {
   "cell_type": "code",
   "execution_count": 16,
   "id": "e239e426",
   "metadata": {},
   "outputs": [
    {
     "name": "stdout",
     "output_type": "stream",
     "text": [
      "\n",
      "Total time windows: 146\n",
      "Threshold: 116 windows (80%)\n",
      "Consistently communicating IPs:\n",
      "0.0.0.0 (in 142 windows)\n",
      "131.202.240.218 (in 144 windows)\n",
      "142.166.14.69 (in 124 windows)\n",
      "142.166.14.70 (in 128 windows)\n",
      "142.166.14.71 (in 137 windows)\n",
      "142.166.14.72 (in 129 windows)\n",
      "142.166.14.77 (in 128 windows)\n",
      "142.166.14.78 (in 130 windows)\n",
      "142.166.14.79 (in 135 windows)\n",
      "142.166.14.80 (in 136 windows)\n",
      "142.166.14.85 (in 136 windows)\n",
      "142.166.14.86 (in 129 windows)\n",
      "192.168.1.101 (in 145 windows)\n",
      "192.168.1.102 (in 145 windows)\n",
      "192.168.1.103 (in 145 windows)\n",
      "192.168.1.104 (in 145 windows)\n",
      "192.168.1.105 (in 145 windows)\n",
      "192.168.1.255 (in 145 windows)\n",
      "192.168.2.106 (in 145 windows)\n",
      "192.168.2.107 (in 145 windows)\n",
      "192.168.2.108 (in 145 windows)\n",
      "192.168.2.109 (in 145 windows)\n",
      "192.168.2.110 (in 145 windows)\n",
      "192.168.2.111 (in 145 windows)\n",
      "192.168.2.112 (in 145 windows)\n",
      "192.168.2.113 (in 145 windows)\n",
      "192.168.2.255 (in 145 windows)\n",
      "192.168.3.114 (in 145 windows)\n",
      "192.168.3.115 (in 145 windows)\n",
      "192.168.3.116 (in 145 windows)\n",
      "192.168.3.117 (in 144 windows)\n",
      "192.168.3.255 (in 144 windows)\n",
      "192.168.4.118 (in 145 windows)\n",
      "192.168.4.119 (in 145 windows)\n",
      "192.168.4.120 (in 145 windows)\n",
      "192.168.4.121 (in 127 windows)\n",
      "192.168.4.255 (in 145 windows)\n",
      "192.168.5.122 (in 145 windows)\n",
      "192.168.5.123 (in 144 windows)\n",
      "192.168.5.255 (in 144 windows)\n",
      "198.164.30.2 (in 145 windows)\n",
      "205.188.103.1 (in 122 windows)\n",
      "205.188.103.2 (in 126 windows)\n",
      "205.188.146.193 (in 125 windows)\n",
      "205.188.146.194 (in 125 windows)\n",
      "205.188.155.110 (in 125 windows)\n",
      "205.188.157.18 (in 125 windows)\n",
      "205.188.190.1 (in 118 windows)\n",
      "205.188.190.2 (in 129 windows)\n",
      "205.188.59.193 (in 125 windows)\n",
      "205.188.59.194 (in 128 windows)\n",
      "206.123.111.173 (in 125 windows)\n",
      "209.85.24.58 (in 126 windows)\n",
      "64.12.137.169 (in 126 windows)\n",
      "64.12.222.197 (in 123 windows)\n",
      "64.12.90.1 (in 122 windows)\n",
      "64.12.90.33 (in 123 windows)\n",
      "64.12.90.34 (in 123 windows)\n",
      "64.12.90.65 (in 126 windows)\n",
      "64.12.90.66 (in 123 windows)\n",
      "64.12.90.97 (in 124 windows)\n",
      "64.12.90.98 (in 123 windows)\n",
      "64.202.188.237 (in 124 windows)\n",
      "64.95.64.198 (in 119 windows)\n",
      "72.11.132.253 (in 118 windows)\n",
      "72.14.204.103 (in 118 windows)\n",
      "72.14.204.104 (in 118 windows)\n",
      "72.14.204.118 (in 118 windows)\n",
      "72.14.204.147 (in 120 windows)\n",
      "72.14.204.148 (in 134 windows)\n",
      "72.14.204.149 (in 122 windows)\n",
      "72.14.204.99 (in 116 windows)\n",
      "72.21.91.19 (in 135 windows)\n",
      "74.50.3.200 (in 130 windows)\n",
      "91.190.170.71 (in 118 windows)\n",
      "97.74.104.201 (in 126 windows)\n",
      "97.74.104.49 (in 128 windows)\n"
     ]
    }
   ],
   "source": [
    "import pandas as pd\n",
    "from collections import Counter\n",
    "\n",
    "df['startDateTime'] = pd.to_datetime(df['startDateTime'])\n",
    "df['time_window'] = df['startDateTime'].dt.floor('h')\n",
    "window_ip_sets = df.groupby('time_window')[['source', 'destination']].apply(\n",
    "    lambda g: set(g['source']) | set(g['destination'])\n",
    ")\n",
    "\n",
    "ip_window_count = Counter()\n",
    "for ip_set in window_ip_sets:\n",
    "    for ip in ip_set:\n",
    "        ip_window_count[ip] += 1\n",
    "total_windows = len(window_ip_sets)\n",
    "\n",
    "threshold = int(total_windows * 0.8)\n",
    "consistent_ips = [ip for ip, count in ip_window_count.items()\n",
    "                  if count >= threshold]\n",
    "\n",
    "print(f\"\\nTotal time windows: {total_windows}\")\n",
    "print(f\"Threshold: {threshold} windows (80%)\")\n",
    "print(\"Consistently communicating IPs:\")\n",
    "for ip in sorted(consistent_ips):\n",
    "    print(f\"{ip} (in {ip_window_count[ip]} windows)\")"
   ]
  },
  {
   "cell_type": "markdown",
   "id": "43f35338",
   "metadata": {},
   "source": [
    "- **Detect irregular spikes in traffic volume over time**  \n",
    "\tGrouped data by hourly window and summed total traffic in MB.  \n",
    "\tComputed mean and standard deviation.  \n",
    "\tFlagged windows where volume exceeded `mean + 2 * std`."
   ]
  },
  {
   "cell_type": "code",
   "execution_count": 17,
   "id": "8033e1af",
   "metadata": {},
   "outputs": [
    {
     "name": "stdout",
     "output_type": "stream",
     "text": [
      "\n",
      "Mean: 500.01 MB, Std: 732.33 MB, Threshold: 1964.68 MB\n",
      "Detected traffic spikes:\n",
      "2010-06-13 10:00:00 → 2247.59 MB\n",
      "2010-06-15 16:00:00 → 7362.41 MB\n"
     ]
    }
   ],
   "source": [
    "df['startDateTime'] = pd.to_datetime(df['startDateTime'])\n",
    "df['time_window'] = df['startDateTime'].dt.floor('h')\n",
    "df['total_bytes'] = df['totalSourceBytes'] + \\\n",
    "    df['totalDestinationBytes']\n",
    "df['total_mb'] = df['total_bytes'] / 1048576\n",
    "\n",
    "traffic_by_window = df.groupby('time_window')['total_mb'].sum()\n",
    "mean = traffic_by_window.mean()\n",
    "std = traffic_by_window.std()\n",
    "threshold = mean + 2 * std\n",
    "\n",
    "spikes = traffic_by_window[traffic_by_window > threshold]\n",
    "\n",
    "print(\n",
    "    f\"\\nMean: {mean:.2f} MB, Std: {std:.2f} MB, Threshold: {threshold:.2f} MB\")\n",
    "print(\"Detected traffic spikes:\")\n",
    "for time, volume in spikes.items():\n",
    "    print(f\"{time} → {volume:.2f} MB\")"
   ]
  },
  {
   "cell_type": "markdown",
   "id": "e78b1955",
   "metadata": {},
   "source": [
    "- **Compute the variance of packet sizes and discuss potential reasons for high variance**  \n",
    "\tComputed average packet size per flow as `total_bytes / total_packets`.  \n",
    "\tUsed `.var()` to calculate the variance.  \n",
    "\tHigh variance may be due to a mix of small control packets and large file transfers."
   ]
  }
 ],
 "metadata": {
  "kernelspec": {
   "display_name": "nta",
   "language": "python",
   "name": "python3"
  },
  "language_info": {
   "codemirror_mode": {
    "name": "ipython",
    "version": 3
   },
   "file_extension": ".py",
   "mimetype": "text/x-python",
   "name": "python",
   "nbconvert_exporter": "python",
   "pygments_lexer": "ipython3",
   "version": "3.13.2"
  }
 },
 "nbformat": 4,
 "nbformat_minor": 5
}
